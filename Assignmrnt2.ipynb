{
 "cells": [
  {
   "cell_type": "code",
   "execution_count": 3,
   "id": "f7cf143a-5dbe-4a9e-b786-a59895cf184e",
   "metadata": {},
   "outputs": [
    {
     "name": "stdin",
     "output_type": "stream",
     "text": [
      "enter percentage : 85\n"
     ]
    },
    {
     "name": "stdout",
     "output_type": "stream",
     "text": [
      "B\n"
     ]
    }
   ],
   "source": [
    "1.per= int(input(\"enter percentage :\"))\n",
    "if per>90:\n",
    "    print(\"A\")\n",
    "elif per>80 and per<=90:\n",
    "    print(\"B\")\n",
    "elif per>=60 and per<=80:\n",
    "    print(\"C\")\n",
    "elif per<60:\n",
    "    print(\"D\")"
   ]
  },
  {
   "cell_type": "code",
   "execution_count": 11,
   "id": "15055a56-2ade-4860-86d5-d67b31666fc0",
   "metadata": {},
   "outputs": [
    {
     "name": "stdin",
     "output_type": "stream",
     "text": [
      "enter cost of bike 80000\n"
     ]
    },
    {
     "name": "stdout",
     "output_type": "stream",
     "text": [
      "10%\n"
     ]
    }
   ],
   "source": [
    "2.costprice= int(input(\"enter cost of bike\"))\n",
    "if costprice  >100000:\n",
    "    print(\"15%\")\n",
    "elif costprice >50000 and costprice <=100000:\n",
    "    print(\"10%\")\n",
    "elif costprice <=50000:\n",
    "    print(\"5%\")"
   ]
  },
  {
   "cell_type": "code",
   "execution_count": 12,
   "id": "ffea6007-5e37-468d-8cdc-827d27e5d955",
   "metadata": {},
   "outputs": [
    {
     "name": "stdin",
     "output_type": "stream",
     "text": [
      "enter city name Delhi\n"
     ]
    },
    {
     "name": "stdout",
     "output_type": "stream",
     "text": [
      "Red Fort\n"
     ]
    }
   ],
   "source": [
    "3.city = input(\"enter city name\")\n",
    "if city ==\"Delhi\":\n",
    "    print(\"Red Fort\")\n",
    "elif city ==\"Agra\":\n",
    "    print(\"Taj Mahal\")\n",
    "elif city == \"Jaipur\":\n",
    "    print(\"Jal Mahal\")"
   ]
  },
  {
   "cell_type": "code",
   "execution_count": null,
   "id": "88f1bfa2-8217-46bf-bca6-6394e7f114b8",
   "metadata": {},
   "outputs": [],
   "source": [
    "4.count = 0\n",
    "num=int(input(\"enter number\"))\n",
    "while(0<num<=10 and (num%3==0)):\n",
    "    count =count+1\n",
    "    num=num%3\n",
    "count    "
   ]
  },
  {
   "cell_type": "code",
   "execution_count": null,
   "id": "2d478825-0626-4112-bc97-32e080089704",
   "metadata": {},
   "outputs": [],
   "source": [
    "5.when we have to print a block of code in a repeated manner for unknown number of times or untill a condition is met.\n",
    "example: if we want to print numbers from 1 to 30\n",
    "    i = 1\n",
    "while i<=30:\n",
    "    print(i)\n",
    "    i=i+1"
   ]
  },
  {
   "cell_type": "code",
   "execution_count": null,
   "id": "0e3d04f4-393b-49bf-8d2d-c887906d44f8",
   "metadata": {},
   "outputs": [],
   "source": [
    "6.n = int(input(\"Enter number of rows\"))\n",
    "i = 1\n",
    "while i<=n:\n",
    "    j=1\n",
    "    while j<=i:\n",
    "        print(\"*\",end = \" \")\n",
    "        j=j+1\n",
    "    print()\n",
    "    i = i+1"
   ]
  },
  {
   "cell_type": "code",
   "execution_count": null,
   "id": "70c4345d-8312-4aaf-9c7e-525793a8aee1",
   "metadata": {},
   "outputs": [],
   "source": [
    "7.i=10\n",
    "while i>=1:\n",
    "    print(i)\n",
    "    i = i-1"
   ]
  },
  {
   "cell_type": "code",
   "execution_count": null,
   "id": "e8ea109f-99f5-4305-9738-22a0ee065722",
   "metadata": {},
   "outputs": [],
   "source": []
  }
 ],
 "metadata": {
  "kernelspec": {
   "display_name": "Python 3 (ipykernel)",
   "language": "python",
   "name": "python3"
  },
  "language_info": {
   "codemirror_mode": {
    "name": "ipython",
    "version": 3
   },
   "file_extension": ".py",
   "mimetype": "text/x-python",
   "name": "python",
   "nbconvert_exporter": "python",
   "pygments_lexer": "ipython3",
   "version": "3.10.8"
  }
 },
 "nbformat": 4,
 "nbformat_minor": 5
}
